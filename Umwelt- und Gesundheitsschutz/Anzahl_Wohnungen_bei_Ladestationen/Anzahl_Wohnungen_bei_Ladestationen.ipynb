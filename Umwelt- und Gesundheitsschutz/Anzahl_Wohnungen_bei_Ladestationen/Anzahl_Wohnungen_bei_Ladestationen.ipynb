{
 "cells": [
  {
   "cell_type": "markdown",
   "metadata": {},
   "source": [
    "Dieses Notebook berechnet die **Anzahl der Wohnungen** in definierten Einzugsgebieten für **E-Fahrzeug-Ladestationen** in **Winterthur**. Dies geht auf eine Anfrage vom **Umwelt- und Gesundheisschutz** (_UGS_) der Stadtverwaltung Winterthur vom 26.09.2024 zurück. Die Einzugsgebiete wurden vom UGS definiert. Eine genaue Beschreibung der Anfrage findet sich im Ticket [FSTGSM-259]."
   ]
  },
  {
   "cell_type": "markdown",
   "metadata": {},
   "source": [
    "Im ersten Schritt werden die für diese Berechnung notwendigen Bibliotheken importiert:"
   ]
  },
  {
   "cell_type": "code",
   "execution_count": 1,
   "metadata": {},
   "outputs": [],
   "source": [
    "import os\n",
    "from urllib.request import urlretrieve\n",
    "import zipfile\n",
    "import geopandas\n",
    "import pandas\n",
    "import matplotlib\n",
    "import contextily"
   ]
  },
  {
   "cell_type": "markdown",
   "metadata": {},
   "source": [
    "Die vom UGS definierten **Einzugsgebiete** werden aus einer **GeoJSON**-Datei (liegt im Unterordner _input_) als **Anfrage-Polygone** eingelesen:"
   ]
  },
  {
   "cell_type": "code",
   "execution_count": 2,
   "metadata": {},
   "outputs": [
    {
     "data": {
      "text/html": [
       "<div>\n",
       "<style scoped>\n",
       "    .dataframe tbody tr th:only-of-type {\n",
       "        vertical-align: middle;\n",
       "    }\n",
       "\n",
       "    .dataframe tbody tr th {\n",
       "        vertical-align: top;\n",
       "    }\n",
       "\n",
       "    .dataframe thead th {\n",
       "        text-align: right;\n",
       "    }\n",
       "</style>\n",
       "<table border=\"1\" class=\"dataframe\">\n",
       "  <thead>\n",
       "    <tr style=\"text-align: right;\">\n",
       "      <th></th>\n",
       "      <th>geometry</th>\n",
       "    </tr>\n",
       "  </thead>\n",
       "  <tbody>\n",
       "    <tr>\n",
       "      <th>0</th>\n",
       "      <td>POLYGON ((8.71571 47.50593, 8.71674 47.50560, ...</td>\n",
       "    </tr>\n",
       "    <tr>\n",
       "      <th>1</th>\n",
       "      <td>POLYGON ((8.73614 47.50617, 8.73633 47.50612, ...</td>\n",
       "    </tr>\n",
       "    <tr>\n",
       "      <th>2</th>\n",
       "      <td>POLYGON ((8.74566 47.49217, 8.74630 47.49188, ...</td>\n",
       "    </tr>\n",
       "  </tbody>\n",
       "</table>\n",
       "</div>"
      ],
      "text/plain": [
       "                                            geometry\n",
       "0  POLYGON ((8.71571 47.50593, 8.71674 47.50560, ...\n",
       "1  POLYGON ((8.73614 47.50617, 8.73633 47.50612, ...\n",
       "2  POLYGON ((8.74566 47.49217, 8.74630 47.49188, ..."
      ]
     },
     "execution_count": 2,
     "metadata": {},
     "output_type": "execute_result"
    }
   ],
   "source": [
    "anfrage_polygone_gdf = geopandas.read_file(\"input/gebiete_ladestationen.geojson\")\n",
    "anfrage_polygone_gdf.head()"
   ]
  },
  {
   "cell_type": "markdown",
   "metadata": {},
   "source": [
    "Die Anfrage-Polygone liegen im _geographischen_ Koordinatenbezugssystem **WGS84** vor. Um im Weiteren geometrische Operationen mit den Anfrage-Polygonen durchführen zu können, ist eine Koordinatentransformation in das _projezierte_ Schweizer Koordinatenbezugssystem **LV95** notwendig:"
   ]
  },
  {
   "cell_type": "code",
   "execution_count": 3,
   "metadata": {},
   "outputs": [
    {
     "data": {
      "text/html": [
       "<div>\n",
       "<style scoped>\n",
       "    .dataframe tbody tr th:only-of-type {\n",
       "        vertical-align: middle;\n",
       "    }\n",
       "\n",
       "    .dataframe tbody tr th {\n",
       "        vertical-align: top;\n",
       "    }\n",
       "\n",
       "    .dataframe thead th {\n",
       "        text-align: right;\n",
       "    }\n",
       "</style>\n",
       "<table border=\"1\" class=\"dataframe\">\n",
       "  <thead>\n",
       "    <tr style=\"text-align: right;\">\n",
       "      <th></th>\n",
       "      <th>geometry</th>\n",
       "    </tr>\n",
       "  </thead>\n",
       "  <tbody>\n",
       "    <tr>\n",
       "      <th>0</th>\n",
       "      <td>POLYGON ((2696210.257 1262468.781, 2696288.413...</td>\n",
       "    </tr>\n",
       "    <tr>\n",
       "      <th>1</th>\n",
       "      <td>POLYGON ((2697748.918 1262520.604, 2697763.077...</td>\n",
       "    </tr>\n",
       "    <tr>\n",
       "      <th>2</th>\n",
       "      <td>POLYGON ((2698492.081 1260976.576, 2698540.779...</td>\n",
       "    </tr>\n",
       "  </tbody>\n",
       "</table>\n",
       "</div>"
      ],
      "text/plain": [
       "                                            geometry\n",
       "0  POLYGON ((2696210.257 1262468.781, 2696288.413...\n",
       "1  POLYGON ((2697748.918 1262520.604, 2697763.077...\n",
       "2  POLYGON ((2698492.081 1260976.576, 2698540.779..."
      ]
     },
     "execution_count": 3,
     "metadata": {},
     "output_type": "execute_result"
    }
   ],
   "source": [
    "anfrage_polygone_gdf = anfrage_polygone_gdf.to_crs(epsg=2056)\n",
    "anfrage_polygone_gdf.head()"
   ]
  },
  {
   "cell_type": "markdown",
   "metadata": {},
   "source": [
    "Prüfung, ob alle Geometrien der Anfrage-Polygone valide sind:"
   ]
  },
  {
   "cell_type": "code",
   "execution_count": 4,
   "metadata": {},
   "outputs": [
    {
     "data": {
      "text/plain": [
       "True"
      ]
     },
     "execution_count": 4,
     "metadata": {},
     "output_type": "execute_result"
    }
   ],
   "source": [
    "all(anfrage_polygone_gdf.is_valid)"
   ]
  },
  {
   "cell_type": "markdown",
   "metadata": {},
   "source": [
    "Kartenvorschau der Einzugsgebiete (Anfrage-Polygone) anzeigen:"
   ]
  },
  {
   "cell_type": "code",
   "execution_count": 5,
   "metadata": {},
   "outputs": [
    {
     "data": {
      "image/png": "[encoded data removed]",
      "text/plain": [
       "<Figure size 640x480 with 1 Axes>"
      ]
     },
     "metadata": {},
     "output_type": "display_data"
    }
   ],
   "source": [
    "anfrage_polygone_plot = anfrage_polygone_gdf.plot()\n",
    "# contextily.add_basemap(anfrage_polygone_plot)"
   ]
  },
  {
   "cell_type": "markdown",
   "metadata": {},
   "source": [
    "Als Speicher für Zwischenergebnisse soll ein Unterordner \"temp\" verwendet werden. Falls dieser noch nicht besteht, soll er angelegt werden:"
   ]
  },
  {
   "cell_type": "code",
   "execution_count": 6,
   "metadata": {},
   "outputs": [],
   "source": [
    "temp_folder = \"temp\"\n",
    "if not os.path.exists(temp_folder):\n",
    "    os.makedirs(temp_folder)"
   ]
  },
  {
   "cell_type": "markdown",
   "metadata": {},
   "source": [
    "Das **Bundesamt für Statistik** (_BfS_) bietet den Datenbestand des eidgenössischen **Gebäude- und Wohnungsregisters** (_GWR_) über die sog. _MADD-Schnittstelle_ unter der URL https://public.madd.bfs.admin.ch zum Download an. Im folgenden Schritt wird der gesamte Bestand des GWR nur für den **Kanton Zürich** vom BfS herunterladen:"
   ]
  },
  {
   "cell_type": "code",
   "execution_count": 7,
   "metadata": {},
   "outputs": [
    {
     "data": {
      "text/plain": [
       "('temp/zh.zip', <http.client.HTTPMessage at 0x73568444be60>)"
      ]
     },
     "execution_count": 7,
     "metadata": {},
     "output_type": "execute_result"
    }
   ],
   "source": [
    "urlretrieve(\"https://public.madd.bfs.admin.ch/zh.zip\", \"temp/zh.zip\")"
   ]
  },
  {
   "cell_type": "markdown",
   "metadata": {},
   "source": [
    "Der Download erfolgte im Archiv-Format ZIP. Das ZIP-Archiv muss entpackt werden, um an die Nutzdaten zu gelangen:"
   ]
  },
  {
   "cell_type": "code",
   "execution_count": 8,
   "metadata": {},
   "outputs": [],
   "source": [
    "with zipfile.ZipFile(\"temp/zh.zip\", \"r\") as zh_zip:\n",
    "    zh_zip.extractall(\"temp/\")"
   ]
  },
  {
   "cell_type": "markdown",
   "metadata": {},
   "source": [
    "Die Gebäudedaten aus dem GWR liegen in der Datei _buildings.geojson_ vor. Diese werden im Folgeschritt eingelesen:"
   ]
  },
  {
   "cell_type": "code",
   "execution_count": 9,
   "metadata": {},
   "outputs": [
    {
     "data": {
      "text/html": [
       "<div>\n",
       "<style scoped>\n",
       "    .dataframe tbody tr th:only-of-type {\n",
       "        vertical-align: middle;\n",
       "    }\n",
       "\n",
       "    .dataframe tbody tr th {\n",
       "        vertical-align: top;\n",
       "    }\n",
       "\n",
       "    .dataframe thead th {\n",
       "        text-align: right;\n",
       "    }\n",
       "</style>\n",
       "<table border=\"1\" class=\"dataframe\">\n",
       "  <thead>\n",
       "    <tr style=\"text-align: right;\">\n",
       "      <th></th>\n",
       "      <th>egid</th>\n",
       "      <th>buildingStatus</th>\n",
       "      <th>buildingCategory</th>\n",
       "      <th>buildingClass</th>\n",
       "      <th>municipalityNumber</th>\n",
       "      <th>municipalityName</th>\n",
       "      <th>canton</th>\n",
       "      <th>geometry</th>\n",
       "    </tr>\n",
       "  </thead>\n",
       "  <tbody>\n",
       "    <tr>\n",
       "      <th>0</th>\n",
       "      <td>1</td>\n",
       "      <td>1004</td>\n",
       "      <td>1040</td>\n",
       "      <td>1271</td>\n",
       "      <td>2</td>\n",
       "      <td>Affoltern am Albis</td>\n",
       "      <td>ZH</td>\n",
       "      <td>POINT (2676523.000 1235843.000)</td>\n",
       "    </tr>\n",
       "    <tr>\n",
       "      <th>1</th>\n",
       "      <td>10</td>\n",
       "      <td>1004</td>\n",
       "      <td>1020</td>\n",
       "      <td>1110</td>\n",
       "      <td>2</td>\n",
       "      <td>Affoltern am Albis</td>\n",
       "      <td>ZH</td>\n",
       "      <td>POINT (2676440.038 1235973.538)</td>\n",
       "    </tr>\n",
       "    <tr>\n",
       "      <th>2</th>\n",
       "      <td>100</td>\n",
       "      <td>1004</td>\n",
       "      <td>1020</td>\n",
       "      <td>1110</td>\n",
       "      <td>2</td>\n",
       "      <td>Affoltern am Albis</td>\n",
       "      <td>ZH</td>\n",
       "      <td>POINT (2676765.706 1236101.658)</td>\n",
       "    </tr>\n",
       "    <tr>\n",
       "      <th>3</th>\n",
       "      <td>1000</td>\n",
       "      <td>1007</td>\n",
       "      <td>1030</td>\n",
       "      <td>1110</td>\n",
       "      <td>2</td>\n",
       "      <td>Affoltern am Albis</td>\n",
       "      <td>ZH</td>\n",
       "      <td>POINT (2676644.881 1236812.863)</td>\n",
       "    </tr>\n",
       "    <tr>\n",
       "      <th>4</th>\n",
       "      <td>10000</td>\n",
       "      <td>1004</td>\n",
       "      <td>1030</td>\n",
       "      <td>1121</td>\n",
       "      <td>291</td>\n",
       "      <td>Andelfingen</td>\n",
       "      <td>ZH</td>\n",
       "      <td>POINT (2693391.650 1272255.267)</td>\n",
       "    </tr>\n",
       "  </tbody>\n",
       "</table>\n",
       "</div>"
      ],
      "text/plain": [
       "    egid  buildingStatus  buildingCategory  buildingClass  municipalityNumber  \\\n",
       "0      1            1004              1040           1271                   2   \n",
       "1     10            1004              1020           1110                   2   \n",
       "2    100            1004              1020           1110                   2   \n",
       "3   1000            1007              1030           1110                   2   \n",
       "4  10000            1004              1030           1121                 291   \n",
       "\n",
       "     municipalityName canton                         geometry  \n",
       "0  Affoltern am Albis     ZH  POINT (2676523.000 1235843.000)  \n",
       "1  Affoltern am Albis     ZH  POINT (2676440.038 1235973.538)  \n",
       "2  Affoltern am Albis     ZH  POINT (2676765.706 1236101.658)  \n",
       "3  Affoltern am Albis     ZH  POINT (2676644.881 1236812.863)  \n",
       "4         Andelfingen     ZH  POINT (2693391.650 1272255.267)  "
      ]
     },
     "execution_count": 9,
     "metadata": {},
     "output_type": "execute_result"
    }
   ],
   "source": [
    "gwr_gebaeude_zh_gdf = geopandas.read_file(\"temp/buildings.geojson\")\n",
    "gwr_gebaeude_zh_gdf.head()"
   ]
  },
  {
   "cell_type": "markdown",
   "metadata": {},
   "source": [
    "Der Datensatz beinhaltet **alle Gebäude** des **Kantons Zürich**. Als erstes wird auf die Gebäude der **Stadt Winterthur gefiltert**. Winterthur hat die offizielle Gemeindenummer **230**:"
   ]
  },
  {
   "cell_type": "code",
   "execution_count": 10,
   "metadata": {},
   "outputs": [
    {
     "data": {
      "text/plain": [
       "np.int64(25944)"
      ]
     },
     "execution_count": 10,
     "metadata": {},
     "output_type": "execute_result"
    }
   ],
   "source": [
    "gwr_gebaeude_win_gdf = gwr_gebaeude_zh_gdf[gwr_gebaeude_zh_gdf[\"municipalityNumber\"] == 230]\n",
    "gwr_gebaeude_win_gdf[\"egid\"].count()"
   ]
  },
  {
   "cell_type": "markdown",
   "metadata": {},
   "source": [
    "Im _Herbst 2024_ gibt es **25'944 Gebäudeobjekte** im GWR-Katalog innerhalb des Stadtgebiets von Winterthur."
   ]
  },
  {
   "cell_type": "markdown",
   "metadata": {},
   "source": [
    "Im nächsten Schritt wird auf die **bestehenden Gebäude** im Datensatz gefiltert. Dies ist über die **Codes** am **Status**-Attribut möglich. Die Codes werden im **Merkmalskatalog zum GWR** erläutert. Der Code **1004** hat die Bedeutuung \"Gebäude bestehend\":"
   ]
  },
  {
   "cell_type": "code",
   "execution_count": 11,
   "metadata": {},
   "outputs": [
    {
     "data": {
      "text/plain": [
       "np.int64(24242)"
      ]
     },
     "execution_count": 11,
     "metadata": {},
     "output_type": "execute_result"
    }
   ],
   "source": [
    "gwr_gebaeude_win_gdf = gwr_gebaeude_win_gdf[gwr_gebaeude_win_gdf[\"buildingStatus\"] == 1004]\n",
    "gwr_gebaeude_win_gdf[\"egid\"].count()"
   ]
  },
  {
   "cell_type": "markdown",
   "metadata": {},
   "source": [
    "Im _Herbst 2024_ gibt es **24'242 Gebäude** in Winterthur."
   ]
  },
  {
   "cell_type": "markdown",
   "metadata": {},
   "source": [
    "Nun erfolgt der **räumliche Verschnitt** (_intersects_) der **Anfrage-Polygone** mit den **GWR-Gebäuden**, um ausschliesslich die Gebäude im Anfragegebiet (Einzugsgebiete der Ladestationen) herauszufiltern:"
   ]
  },
  {
   "cell_type": "code",
   "execution_count": 12,
   "metadata": {},
   "outputs": [
    {
     "data": {
      "text/html": [
       "<div>\n",
       "<style scoped>\n",
       "    .dataframe tbody tr th:only-of-type {\n",
       "        vertical-align: middle;\n",
       "    }\n",
       "\n",
       "    .dataframe tbody tr th {\n",
       "        vertical-align: top;\n",
       "    }\n",
       "\n",
       "    .dataframe thead th {\n",
       "        text-align: right;\n",
       "    }\n",
       "</style>\n",
       "<table border=\"1\" class=\"dataframe\">\n",
       "  <thead>\n",
       "    <tr style=\"text-align: right;\">\n",
       "      <th></th>\n",
       "      <th>egid</th>\n",
       "      <th>buildingStatus</th>\n",
       "      <th>buildingCategory</th>\n",
       "      <th>buildingClass</th>\n",
       "      <th>municipalityNumber</th>\n",
       "      <th>municipalityName</th>\n",
       "      <th>canton</th>\n",
       "      <th>geometry</th>\n",
       "      <th>index_right</th>\n",
       "    </tr>\n",
       "  </thead>\n",
       "  <tbody>\n",
       "    <tr>\n",
       "      <th>16175</th>\n",
       "      <td>1150451</td>\n",
       "      <td>1004</td>\n",
       "      <td>1020</td>\n",
       "      <td>1122</td>\n",
       "      <td>230</td>\n",
       "      <td>Winterthur</td>\n",
       "      <td>ZH</td>\n",
       "      <td>POINT (2697527.891 1262283.863)</td>\n",
       "      <td>1</td>\n",
       "    </tr>\n",
       "    <tr>\n",
       "      <th>16189</th>\n",
       "      <td>1150464</td>\n",
       "      <td>1004</td>\n",
       "      <td>1020</td>\n",
       "      <td>1122</td>\n",
       "      <td>230</td>\n",
       "      <td>Winterthur</td>\n",
       "      <td>ZH</td>\n",
       "      <td>POINT (2697529.718 1262294.984)</td>\n",
       "      <td>1</td>\n",
       "    </tr>\n",
       "    <tr>\n",
       "      <th>16237</th>\n",
       "      <td>1150508</td>\n",
       "      <td>1004</td>\n",
       "      <td>1020</td>\n",
       "      <td>1122</td>\n",
       "      <td>230</td>\n",
       "      <td>Winterthur</td>\n",
       "      <td>ZH</td>\n",
       "      <td>POINT (2697711.265 1262201.111)</td>\n",
       "      <td>1</td>\n",
       "    </tr>\n",
       "    <tr>\n",
       "      <th>16238</th>\n",
       "      <td>1150509</td>\n",
       "      <td>1004</td>\n",
       "      <td>1020</td>\n",
       "      <td>1122</td>\n",
       "      <td>230</td>\n",
       "      <td>Winterthur</td>\n",
       "      <td>ZH</td>\n",
       "      <td>POINT (2697702.938 1262207.948)</td>\n",
       "      <td>1</td>\n",
       "    </tr>\n",
       "    <tr>\n",
       "      <th>16240</th>\n",
       "      <td>1150510</td>\n",
       "      <td>1004</td>\n",
       "      <td>1030</td>\n",
       "      <td>1122</td>\n",
       "      <td>230</td>\n",
       "      <td>Winterthur</td>\n",
       "      <td>ZH</td>\n",
       "      <td>POINT (2697677.405 1262218.854)</td>\n",
       "      <td>1</td>\n",
       "    </tr>\n",
       "  </tbody>\n",
       "</table>\n",
       "</div>"
      ],
      "text/plain": [
       "          egid  buildingStatus  buildingCategory  buildingClass  \\\n",
       "16175  1150451            1004              1020           1122   \n",
       "16189  1150464            1004              1020           1122   \n",
       "16237  1150508            1004              1020           1122   \n",
       "16238  1150509            1004              1020           1122   \n",
       "16240  1150510            1004              1030           1122   \n",
       "\n",
       "       municipalityNumber municipalityName canton  \\\n",
       "16175                 230       Winterthur     ZH   \n",
       "16189                 230       Winterthur     ZH   \n",
       "16237                 230       Winterthur     ZH   \n",
       "16238                 230       Winterthur     ZH   \n",
       "16240                 230       Winterthur     ZH   \n",
       "\n",
       "                              geometry  index_right  \n",
       "16175  POINT (2697527.891 1262283.863)            1  \n",
       "16189  POINT (2697529.718 1262294.984)            1  \n",
       "16237  POINT (2697711.265 1262201.111)            1  \n",
       "16238  POINT (2697702.938 1262207.948)            1  \n",
       "16240  POINT (2697677.405 1262218.854)            1  "
      ]
     },
     "execution_count": 12,
     "metadata": {},
     "output_type": "execute_result"
    }
   ],
   "source": [
    "gebaeude_im_anfragegebiet = geopandas.sjoin(gwr_gebaeude_win_gdf, anfrage_polygone_gdf, how=\"inner\", predicate=\"intersects\")\n",
    "gebaeude_im_anfragegebiet.head()"
   ]
  },
  {
   "cell_type": "markdown",
   "metadata": {},
   "source": [
    "Zur Kontrolle wird das Verschnittergebnis (gefilterte Gebäudemittelpunkte) auf einer Übersichtskarte dargestellt:"
   ]
  },
  {
   "cell_type": "code",
   "execution_count": 13,
   "metadata": {},
   "outputs": [
    {
     "data": {
      "image/png": "[encoded data removed]",
      "text/plain": [
       "<Figure size 640x480 with 1 Axes>"
      ]
     },
     "metadata": {},
     "output_type": "display_data"
    }
   ],
   "source": [
    "gebaeude_im_anfragegebiet_plot = gebaeude_im_anfragegebiet.plot()\n",
    "# contextily.add_basemap(gebaeude_im_anfragegebiet_plot)"
   ]
  },
  {
   "cell_type": "markdown",
   "metadata": {},
   "source": [
    "Als nächstes werden die Wohnungen aus dem GWR-Datensatz geladen. Diese liegen in der **CSV-Datei** _wohnung_logement_abitazione.csv_ vor:"
   ]
  },
  {
   "cell_type": "code",
   "execution_count": 14,
   "metadata": {},
   "outputs": [
    {
     "data": {
      "text/html": [
       "<div>\n",
       "<style scoped>\n",
       "    .dataframe tbody tr th:only-of-type {\n",
       "        vertical-align: middle;\n",
       "    }\n",
       "\n",
       "    .dataframe tbody tr th {\n",
       "        vertical-align: top;\n",
       "    }\n",
       "\n",
       "    .dataframe thead th {\n",
       "        text-align: right;\n",
       "    }\n",
       "</style>\n",
       "<table border=\"1\" class=\"dataframe\">\n",
       "  <thead>\n",
       "    <tr style=\"text-align: right;\">\n",
       "      <th></th>\n",
       "      <th>EGID</th>\n",
       "      <th>EWID</th>\n",
       "      <th>EDID</th>\n",
       "      <th>WHGNR</th>\n",
       "      <th>WEINR</th>\n",
       "      <th>WSTWK</th>\n",
       "      <th>WBEZ</th>\n",
       "      <th>WMEHRG</th>\n",
       "      <th>WBAUJ</th>\n",
       "      <th>WABBJ</th>\n",
       "      <th>WSTAT</th>\n",
       "      <th>WAREA</th>\n",
       "      <th>WAZIM</th>\n",
       "      <th>WKCHE</th>\n",
       "      <th>WEXPDAT</th>\n",
       "      <th>geometry</th>\n",
       "    </tr>\n",
       "  </thead>\n",
       "  <tbody>\n",
       "    <tr>\n",
       "      <th>0</th>\n",
       "      <td>1</td>\n",
       "      <td>1</td>\n",
       "      <td>0</td>\n",
       "      <td>1</td>\n",
       "      <td></td>\n",
       "      <td>3100</td>\n",
       "      <td></td>\n",
       "      <td>1</td>\n",
       "      <td>1999</td>\n",
       "      <td></td>\n",
       "      <td>3004</td>\n",
       "      <td>40</td>\n",
       "      <td>1</td>\n",
       "      <td>1</td>\n",
       "      <td>2024-10-09</td>\n",
       "      <td>None</td>\n",
       "    </tr>\n",
       "    <tr>\n",
       "      <th>1</th>\n",
       "      <td>1</td>\n",
       "      <td>3</td>\n",
       "      <td>0</td>\n",
       "      <td>101</td>\n",
       "      <td></td>\n",
       "      <td>3101</td>\n",
       "      <td></td>\n",
       "      <td>0</td>\n",
       "      <td>1999</td>\n",
       "      <td></td>\n",
       "      <td>3004</td>\n",
       "      <td>120</td>\n",
       "      <td>4</td>\n",
       "      <td>1</td>\n",
       "      <td>2024-10-09</td>\n",
       "      <td>None</td>\n",
       "    </tr>\n",
       "    <tr>\n",
       "      <th>2</th>\n",
       "      <td>2</td>\n",
       "      <td>1</td>\n",
       "      <td>0</td>\n",
       "      <td></td>\n",
       "      <td></td>\n",
       "      <td>3100</td>\n",
       "      <td></td>\n",
       "      <td>1</td>\n",
       "      <td>1999</td>\n",
       "      <td>2010</td>\n",
       "      <td>3007</td>\n",
       "      <td>120</td>\n",
       "      <td>5</td>\n",
       "      <td>1</td>\n",
       "      <td>2024-10-09</td>\n",
       "      <td>None</td>\n",
       "    </tr>\n",
       "    <tr>\n",
       "      <th>3</th>\n",
       "      <td>3</td>\n",
       "      <td>1</td>\n",
       "      <td>0</td>\n",
       "      <td></td>\n",
       "      <td></td>\n",
       "      <td>3100</td>\n",
       "      <td></td>\n",
       "      <td>1</td>\n",
       "      <td>1999</td>\n",
       "      <td></td>\n",
       "      <td>3004</td>\n",
       "      <td>144</td>\n",
       "      <td>6</td>\n",
       "      <td>1</td>\n",
       "      <td>2024-10-09</td>\n",
       "      <td>None</td>\n",
       "    </tr>\n",
       "    <tr>\n",
       "      <th>4</th>\n",
       "      <td>4</td>\n",
       "      <td>1</td>\n",
       "      <td>0</td>\n",
       "      <td></td>\n",
       "      <td></td>\n",
       "      <td>3100</td>\n",
       "      <td></td>\n",
       "      <td>1</td>\n",
       "      <td>1999</td>\n",
       "      <td></td>\n",
       "      <td>3004</td>\n",
       "      <td>160</td>\n",
       "      <td>5</td>\n",
       "      <td>1</td>\n",
       "      <td>2024-10-09</td>\n",
       "      <td>None</td>\n",
       "    </tr>\n",
       "  </tbody>\n",
       "</table>\n",
       "</div>"
      ],
      "text/plain": [
       "  EGID EWID EDID WHGNR WEINR WSTWK WBEZ WMEHRG WBAUJ WABBJ WSTAT WAREA WAZIM  \\\n",
       "0    1    1    0     1        3100           1  1999        3004    40     1   \n",
       "1    1    3    0   101        3101           0  1999        3004   120     4   \n",
       "2    2    1    0              3100           1  1999  2010  3007   120     5   \n",
       "3    3    1    0              3100           1  1999        3004   144     6   \n",
       "4    4    1    0              3100           1  1999        3004   160     5   \n",
       "\n",
       "  WKCHE     WEXPDAT geometry  \n",
       "0     1  2024-10-09     None  \n",
       "1     1  2024-10-09     None  \n",
       "2     1  2024-10-09     None  \n",
       "3     1  2024-10-09     None  \n",
       "4     1  2024-10-09     None  "
      ]
     },
     "execution_count": 14,
     "metadata": {},
     "output_type": "execute_result"
    }
   ],
   "source": [
    "gwr_wohungen_zh_df = geopandas.read_file(\"temp/wohnung_logement_abitazione.csv\")\n",
    "gwr_wohungen_zh_df.head()"
   ]
  },
  {
   "cell_type": "markdown",
   "metadata": {},
   "source": [
    "Dies sind alle Wohnungsobjekte des gesamten Kantons Zürich. Im nächsten Schritt wird auch bei den Wohnungen ausschliesslich auf die **bestehenden Wohnungen** im Datensatz gefiltert. Auch hier ist es über die **Codes** am **Status**-Attribut (_WSTAT_) der Wohnung möglich. Nach **Merkmalskatalog** hat der Code **3004** die Bedeutuung \"Wohnung bestehend\":"
   ]
  },
  {
   "cell_type": "code",
   "execution_count": 15,
   "metadata": {},
   "outputs": [
    {
     "data": {
      "text/plain": [
       "np.int64(797873)"
      ]
     },
     "execution_count": 15,
     "metadata": {},
     "output_type": "execute_result"
    }
   ],
   "source": [
    "gwr_wohungen_zh_df = gwr_wohungen_zh_df[gwr_wohungen_zh_df[\"WSTAT\"] == \"3004\"]\n",
    "gwr_wohungen_zh_df[\"EGID\"].count()"
   ]
  },
  {
   "cell_type": "markdown",
   "metadata": {},
   "source": [
    "Stand _Herbst 2024_ gibt es insgesamt **797'873 Wohnungen** im Kanton Zürich."
   ]
  },
  {
   "cell_type": "markdown",
   "metadata": {},
   "source": [
    "Bei den **Wohnungsdaten** hat das Attribut **Eidgenössischer Gebäudeidentifikator** (_EGID_) noch einen unpassenden Datentyp (_object_). Es handelt sich bei dem Attribut tatsächlich um eine Ganzzahl. Da dieses Attribut in den Operationen der Folgeschritte verwendet wird, wird dieser zunächst in einen **numerischen Datentyp** (_int64_) umgewandelt:"
   ]
  },
  {
   "cell_type": "code",
   "execution_count": 16,
   "metadata": {},
   "outputs": [
    {
     "data": {
      "text/plain": [
       "dtype('int64')"
      ]
     },
     "execution_count": 16,
     "metadata": {},
     "output_type": "execute_result"
    }
   ],
   "source": [
    "gwr_wohungen_zh_df[\"EGID\"] = pandas.to_numeric(gwr_wohungen_zh_df[\"EGID\"])\n",
    "gwr_wohungen_zh_df[\"EGID\"].dtype"
   ]
  },
  {
   "cell_type": "markdown",
   "metadata": {},
   "source": [
    "Im finaler Schritt werden die Wohnungen anhand der EGID der Gebäude im Anfragegebiet gefiltert. Es werden also nur noch solche Wohnungen \"beibehalten\", die im GWR den Gebäuden zugeordnet sind, die in den Anfrage-Polygonen (Einzugsgebiete) liegen:"
   ]
  },
  {
   "cell_type": "code",
   "execution_count": 17,
   "metadata": {},
   "outputs": [
    {
     "data": {
      "text/plain": [
       "np.int64(1944)"
      ]
     },
     "execution_count": 17,
     "metadata": {},
     "output_type": "execute_result"
    }
   ],
   "source": [
    "gwr_wohungen_win_df = gwr_wohungen_zh_df[gwr_wohungen_zh_df[\"EGID\"].isin(gebaeude_im_anfragegebiet[\"egid\"].tolist())]\n",
    "gwr_wohungen_win_df[\"EGID\"].count()"
   ]
  },
  {
   "cell_type": "markdown",
   "metadata": {},
   "source": [
    "Im _Herbst 2024_ gibt es **1'944 Wohnungen** in den Anfragegebieten (Einzugsgebeite der Ladestationen für E-Fahrzeuge)."
   ]
  }
 ],
 "metadata": {
  "kernelspec": {
   "display_name": ".venv",
   "language": "python",
   "name": "python3"
  },
  "language_info": {
   "codemirror_mode": {
    "name": "ipython",
    "version": 3
   },
   "file_extension": ".py",
   "mimetype": "text/x-python",
   "name": "python",
   "nbconvert_exporter": "python",
   "pygments_lexer": "ipython3",
   "version": "3.12.3"
  }
 },
 "nbformat": 4,
 "nbformat_minor": 2
}
