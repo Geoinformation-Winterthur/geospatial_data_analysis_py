{
 "cells": [
  {
   "cell_type": "markdown",
   "metadata": {},
   "source": [
    "Dieses Notebook liefert die Geodaten zur Anfrage vom Amt für Städtebau der Stadtverwaltung Winterthur vom 02.09.2024. Es geht darum, alle Gebäude der Stadt Winterthur aus dem OSM-Datensatz zu beziehen, die in den Pünten-Gebieten liegen. Die Pünten-Gebiete wurden als Polygone vom Amt für Städtebau geliefert. Eine genaue Beschreibung der Anfrage findet sich im Ticket [FSTGSM-213]."
   ]
  },
  {
   "cell_type": "markdown",
   "metadata": {},
   "source": [
    "Bibliotheken importieren:"
   ]
  },
  {
   "cell_type": "code",
   "execution_count": 1,
   "metadata": {},
   "outputs": [],
   "source": [
    "import os\n",
    "import osmnx\n",
    "import geopandas\n",
    "import matplotlib"
   ]
  },
  {
   "cell_type": "markdown",
   "metadata": {},
   "source": [
    "Die Pünten-Gebiete als Anfrage-Polygone (anfrage_polygone_gdf) laden und erste Zeilen des GeoDataFrames (GDF) anzeigen:"
   ]
  },
  {
   "cell_type": "code",
   "execution_count": 2,
   "metadata": {},
   "outputs": [
    {
     "data": {
      "text/html": [
       "<div>\n",
       "<style scoped>\n",
       "    .dataframe tbody tr th:only-of-type {\n",
       "        vertical-align: middle;\n",
       "    }\n",
       "\n",
       "    .dataframe tbody tr th {\n",
       "        vertical-align: top;\n",
       "    }\n",
       "\n",
       "    .dataframe thead th {\n",
       "        text-align: right;\n",
       "    }\n",
       "</style>\n",
       "<table border=\"1\" class=\"dataframe\">\n",
       "  <thead>\n",
       "    <tr style=\"text-align: right;\">\n",
       "      <th></th>\n",
       "      <th>fid_</th>\n",
       "      <th>id_art</th>\n",
       "      <th>art_name</th>\n",
       "      <th>geometry</th>\n",
       "    </tr>\n",
       "  </thead>\n",
       "  <tbody>\n",
       "    <tr>\n",
       "      <th>0</th>\n",
       "      <td>0</td>\n",
       "      <td>6</td>\n",
       "      <td>Familiengärten</td>\n",
       "      <td>POLYGON ((2696142.681 1263324.303, 2696139.152...</td>\n",
       "    </tr>\n",
       "    <tr>\n",
       "      <th>1</th>\n",
       "      <td>0</td>\n",
       "      <td>6</td>\n",
       "      <td>Familiengärten</td>\n",
       "      <td>POLYGON ((2695436.882 1262573.750, 2695424.465...</td>\n",
       "    </tr>\n",
       "    <tr>\n",
       "      <th>2</th>\n",
       "      <td>0</td>\n",
       "      <td>6</td>\n",
       "      <td>Familiengärten</td>\n",
       "      <td>POLYGON ((2695318.615 1262411.404, 2695408.831...</td>\n",
       "    </tr>\n",
       "    <tr>\n",
       "      <th>3</th>\n",
       "      <td>0</td>\n",
       "      <td>6</td>\n",
       "      <td>Familiengärten</td>\n",
       "      <td>POLYGON ((2695801.364 1262083.289, 2695819.857...</td>\n",
       "    </tr>\n",
       "    <tr>\n",
       "      <th>4</th>\n",
       "      <td>0</td>\n",
       "      <td>6</td>\n",
       "      <td>Familiengärten</td>\n",
       "      <td>POLYGON ((2694267.954 1263971.263, 2694273.038...</td>\n",
       "    </tr>\n",
       "  </tbody>\n",
       "</table>\n",
       "</div>"
      ],
      "text/plain": [
       "   fid_  id_art        art_name  \\\n",
       "0     0       6  Familiengärten   \n",
       "1     0       6  Familiengärten   \n",
       "2     0       6  Familiengärten   \n",
       "3     0       6  Familiengärten   \n",
       "4     0       6  Familiengärten   \n",
       "\n",
       "                                            geometry  \n",
       "0  POLYGON ((2696142.681 1263324.303, 2696139.152...  \n",
       "1  POLYGON ((2695436.882 1262573.750, 2695424.465...  \n",
       "2  POLYGON ((2695318.615 1262411.404, 2695408.831...  \n",
       "3  POLYGON ((2695801.364 1262083.289, 2695819.857...  \n",
       "4  POLYGON ((2694267.954 1263971.263, 2694273.038...  "
      ]
     },
     "execution_count": 2,
     "metadata": {},
     "output_type": "execute_result"
    }
   ],
   "source": [
    "anfrage_polygone_gdf = geopandas.read_file(\"input/AV_Strassenblockplan_familiengaerten.shx\")\n",
    "anfrage_polygone_gdf.head()\n"
   ]
  },
  {
   "cell_type": "markdown",
   "metadata": {},
   "source": [
    "Koordinaten der Anfrage-Polygone vom Schweizer KBS \"LV95\" auf das internationale KBS \"WGS84\" umprojizieren. Dies ist notwendig, da die OSM-Daten, die bezogen werden sollen, in WGS84 vorliegen."
   ]
  },
  {
   "cell_type": "code",
   "execution_count": 3,
   "metadata": {},
   "outputs": [
    {
     "data": {
      "text/html": [
       "<div>\n",
       "<style scoped>\n",
       "    .dataframe tbody tr th:only-of-type {\n",
       "        vertical-align: middle;\n",
       "    }\n",
       "\n",
       "    .dataframe tbody tr th {\n",
       "        vertical-align: top;\n",
       "    }\n",
       "\n",
       "    .dataframe thead th {\n",
       "        text-align: right;\n",
       "    }\n",
       "</style>\n",
       "<table border=\"1\" class=\"dataframe\">\n",
       "  <thead>\n",
       "    <tr style=\"text-align: right;\">\n",
       "      <th></th>\n",
       "      <th>fid_</th>\n",
       "      <th>id_art</th>\n",
       "      <th>art_name</th>\n",
       "      <th>geometry</th>\n",
       "    </tr>\n",
       "  </thead>\n",
       "  <tbody>\n",
       "    <tr>\n",
       "      <th>0</th>\n",
       "      <td>0</td>\n",
       "      <td>6</td>\n",
       "      <td>Familiengärten</td>\n",
       "      <td>POLYGON ((8.71499 47.51363, 8.71495 47.51358, ...</td>\n",
       "    </tr>\n",
       "    <tr>\n",
       "      <th>1</th>\n",
       "      <td>0</td>\n",
       "      <td>6</td>\n",
       "      <td>Familiengärten</td>\n",
       "      <td>POLYGON ((8.70547 47.50698, 8.70530 47.50701, ...</td>\n",
       "    </tr>\n",
       "    <tr>\n",
       "      <th>2</th>\n",
       "      <td>0</td>\n",
       "      <td>6</td>\n",
       "      <td>Familiengärten</td>\n",
       "      <td>POLYGON ((8.70386 47.50554, 8.70505 47.50517, ...</td>\n",
       "    </tr>\n",
       "    <tr>\n",
       "      <th>3</th>\n",
       "      <td>0</td>\n",
       "      <td>6</td>\n",
       "      <td>Familiengärten</td>\n",
       "      <td>POLYGON ((8.71020 47.50252, 8.71044 47.50260, ...</td>\n",
       "    </tr>\n",
       "    <tr>\n",
       "      <th>4</th>\n",
       "      <td>0</td>\n",
       "      <td>6</td>\n",
       "      <td>Familiengärten</td>\n",
       "      <td>POLYGON ((8.69025 47.51972, 8.69036 47.52164, ...</td>\n",
       "    </tr>\n",
       "  </tbody>\n",
       "</table>\n",
       "</div>"
      ],
      "text/plain": [
       "   fid_  id_art        art_name  \\\n",
       "0     0       6  Familiengärten   \n",
       "1     0       6  Familiengärten   \n",
       "2     0       6  Familiengärten   \n",
       "3     0       6  Familiengärten   \n",
       "4     0       6  Familiengärten   \n",
       "\n",
       "                                            geometry  \n",
       "0  POLYGON ((8.71499 47.51363, 8.71495 47.51358, ...  \n",
       "1  POLYGON ((8.70547 47.50698, 8.70530 47.50701, ...  \n",
       "2  POLYGON ((8.70386 47.50554, 8.70505 47.50517, ...  \n",
       "3  POLYGON ((8.71020 47.50252, 8.71044 47.50260, ...  \n",
       "4  POLYGON ((8.69025 47.51972, 8.69036 47.52164, ...  "
      ]
     },
     "execution_count": 3,
     "metadata": {},
     "output_type": "execute_result"
    }
   ],
   "source": [
    "anfrage_polygone_gdf = geopandas.GeoDataFrame(anfrage_polygone_gdf, crs=2056)\n",
    "anfrage_polygone_gdf = anfrage_polygone_gdf.to_crs(epsg=4326)\n",
    "anfrage_polygone_gdf.head()"
   ]
  },
  {
   "cell_type": "markdown",
   "metadata": {},
   "source": [
    "Prüfung, ob alle Geometrien der Anfrage-Polygone valide sind:"
   ]
  },
  {
   "cell_type": "code",
   "execution_count": 4,
   "metadata": {},
   "outputs": [
    {
     "data": {
      "text/plain": [
       "True"
      ]
     },
     "execution_count": 4,
     "metadata": {},
     "output_type": "execute_result"
    }
   ],
   "source": [
    "all(anfrage_polygone_gdf.is_valid)"
   ]
  },
  {
   "cell_type": "markdown",
   "metadata": {},
   "source": [
    "Kartenvorschau der Pünten-Gebiete (Anfrage-Polygone) anzeigen:"
   ]
  },
  {
   "cell_type": "code",
   "execution_count": 5,
   "metadata": {},
   "outputs": [
    {
     "data": {
      "text/plain": [
       "<Axes: >"
      ]
     },
     "execution_count": 5,
     "metadata": {},
     "output_type": "execute_result"
    },
    {
     "data": {
      "image/png": "[encoded data removed]",
      "text/plain": [
       "<Figure size 640x480 with 1 Axes>"
      ]
     },
     "metadata": {},
     "output_type": "display_data"
    }
   ],
   "source": [
    "anfrage_polygone_gdf.plot()"
   ]
  },
  {
   "cell_type": "markdown",
   "metadata": {},
   "source": [
    "Alle Gebäude-Geoobjekte der Stadt Winterthur aus OSM laden und erste Spalten der GeoDataFrame (GDF) anzeigen. Hierbei sollen gleich nur die Gebäude innerhalb der Anfrage-Polygone von OSM geladen werden. Leider funktioniert der Datenabruf auf diese weise nicht, die Funktion wirft immer einen Fehler, demnach die Eingabe-Geometrien nicht valide sind. Die vorgängige Validitätsprüfung (siehe weiter oben) besagt jedoch, dass die Eingabe-Polygone valide sind. Tatsächliche Ursache des Fehlers bleibt unklar, weshalb der Code auskommentiert ist, bis eine Lösung gefunden wird. Im der Folge-Zelle wird stattdessen ein alternativer Datenbezug durchgeführt, bei dem (ineffizient) zunächst alle Winterthurer Gebäude aus OSM bezogen und anschliessend erst gefiltert werden."
   ]
  },
  {
   "cell_type": "code",
   "execution_count": 6,
   "metadata": {},
   "outputs": [],
   "source": [
    "# funktioniert leider nicht, wirft immer einen Fehler, wäre aber besser: winti_buildings_gdf = osmnx.features_from_polygon(polygon=anfrage_polygone_gdf, tags={\"building\": True})\n",
    "# winti_buildings_gdf.head()"
   ]
  },
  {
   "cell_type": "markdown",
   "metadata": {},
   "source": [
    "Alle Gebäude-Geoobjekte der Stadt Winterthur aus OSM laden und erste Spalten der GeoDataFrame (GDF) anzeigen:"
   ]
  },
  {
   "cell_type": "code",
   "execution_count": 7,
   "metadata": {},
   "outputs": [
    {
     "data": {
      "text/html": [
       "<div>\n",
       "<style scoped>\n",
       "    .dataframe tbody tr th:only-of-type {\n",
       "        vertical-align: middle;\n",
       "    }\n",
       "\n",
       "    .dataframe tbody tr th {\n",
       "        vertical-align: top;\n",
       "    }\n",
       "\n",
       "    .dataframe thead th {\n",
       "        text-align: right;\n",
       "    }\n",
       "</style>\n",
       "<table border=\"1\" class=\"dataframe\">\n",
       "  <thead>\n",
       "    <tr style=\"text-align: right;\">\n",
       "      <th></th>\n",
       "      <th></th>\n",
       "      <th>access</th>\n",
       "      <th>amenity</th>\n",
       "      <th>parking</th>\n",
       "      <th>geometry</th>\n",
       "      <th>tourism</th>\n",
       "      <th>fee</th>\n",
       "      <th>highway</th>\n",
       "      <th>check_date</th>\n",
       "      <th>man_made</th>\n",
       "      <th>height</th>\n",
       "      <th>...</th>\n",
       "      <th>parcel_pickup</th>\n",
       "      <th>supervised</th>\n",
       "      <th>cemetery</th>\n",
       "      <th>telecom</th>\n",
       "      <th>lockable</th>\n",
       "      <th>architect</th>\n",
       "      <th>architect:wikidata</th>\n",
       "      <th>usage</th>\n",
       "      <th>industrial</th>\n",
       "      <th>ways</th>\n",
       "    </tr>\n",
       "    <tr>\n",
       "      <th>element_type</th>\n",
       "      <th>osmid</th>\n",
       "      <th></th>\n",
       "      <th></th>\n",
       "      <th></th>\n",
       "      <th></th>\n",
       "      <th></th>\n",
       "      <th></th>\n",
       "      <th></th>\n",
       "      <th></th>\n",
       "      <th></th>\n",
       "      <th></th>\n",
       "      <th></th>\n",
       "      <th></th>\n",
       "      <th></th>\n",
       "      <th></th>\n",
       "      <th></th>\n",
       "      <th></th>\n",
       "      <th></th>\n",
       "      <th></th>\n",
       "      <th></th>\n",
       "      <th></th>\n",
       "      <th></th>\n",
       "    </tr>\n",
       "  </thead>\n",
       "  <tbody>\n",
       "    <tr>\n",
       "      <th rowspan=\"5\" valign=\"top\">node</th>\n",
       "      <th>1116372862</th>\n",
       "      <td>NaN</td>\n",
       "      <td>NaN</td>\n",
       "      <td>NaN</td>\n",
       "      <td>POINT (8.75910 47.52519)</td>\n",
       "      <td>NaN</td>\n",
       "      <td>NaN</td>\n",
       "      <td>NaN</td>\n",
       "      <td>NaN</td>\n",
       "      <td>NaN</td>\n",
       "      <td>NaN</td>\n",
       "      <td>...</td>\n",
       "      <td>NaN</td>\n",
       "      <td>NaN</td>\n",
       "      <td>NaN</td>\n",
       "      <td>NaN</td>\n",
       "      <td>NaN</td>\n",
       "      <td>NaN</td>\n",
       "      <td>NaN</td>\n",
       "      <td>NaN</td>\n",
       "      <td>NaN</td>\n",
       "      <td>NaN</td>\n",
       "    </tr>\n",
       "    <tr>\n",
       "      <th>3094709495</th>\n",
       "      <td>NaN</td>\n",
       "      <td>NaN</td>\n",
       "      <td>NaN</td>\n",
       "      <td>POINT (8.73029 47.49697)</td>\n",
       "      <td>NaN</td>\n",
       "      <td>NaN</td>\n",
       "      <td>NaN</td>\n",
       "      <td>NaN</td>\n",
       "      <td>NaN</td>\n",
       "      <td>NaN</td>\n",
       "      <td>...</td>\n",
       "      <td>NaN</td>\n",
       "      <td>NaN</td>\n",
       "      <td>NaN</td>\n",
       "      <td>NaN</td>\n",
       "      <td>NaN</td>\n",
       "      <td>NaN</td>\n",
       "      <td>NaN</td>\n",
       "      <td>NaN</td>\n",
       "      <td>NaN</td>\n",
       "      <td>NaN</td>\n",
       "    </tr>\n",
       "    <tr>\n",
       "      <th>10054090646</th>\n",
       "      <td>NaN</td>\n",
       "      <td>NaN</td>\n",
       "      <td>NaN</td>\n",
       "      <td>POINT (8.75554 47.50395)</td>\n",
       "      <td>NaN</td>\n",
       "      <td>NaN</td>\n",
       "      <td>NaN</td>\n",
       "      <td>NaN</td>\n",
       "      <td>NaN</td>\n",
       "      <td>NaN</td>\n",
       "      <td>...</td>\n",
       "      <td>NaN</td>\n",
       "      <td>NaN</td>\n",
       "      <td>NaN</td>\n",
       "      <td>NaN</td>\n",
       "      <td>NaN</td>\n",
       "      <td>NaN</td>\n",
       "      <td>NaN</td>\n",
       "      <td>NaN</td>\n",
       "      <td>NaN</td>\n",
       "      <td>NaN</td>\n",
       "    </tr>\n",
       "    <tr>\n",
       "      <th>10054090649</th>\n",
       "      <td>NaN</td>\n",
       "      <td>NaN</td>\n",
       "      <td>NaN</td>\n",
       "      <td>POINT (8.75383 47.50574)</td>\n",
       "      <td>NaN</td>\n",
       "      <td>NaN</td>\n",
       "      <td>NaN</td>\n",
       "      <td>NaN</td>\n",
       "      <td>NaN</td>\n",
       "      <td>NaN</td>\n",
       "      <td>...</td>\n",
       "      <td>NaN</td>\n",
       "      <td>NaN</td>\n",
       "      <td>NaN</td>\n",
       "      <td>NaN</td>\n",
       "      <td>NaN</td>\n",
       "      <td>NaN</td>\n",
       "      <td>NaN</td>\n",
       "      <td>NaN</td>\n",
       "      <td>NaN</td>\n",
       "      <td>NaN</td>\n",
       "    </tr>\n",
       "    <tr>\n",
       "      <th>10054090650</th>\n",
       "      <td>NaN</td>\n",
       "      <td>NaN</td>\n",
       "      <td>NaN</td>\n",
       "      <td>POINT (8.75342 47.50574)</td>\n",
       "      <td>NaN</td>\n",
       "      <td>NaN</td>\n",
       "      <td>NaN</td>\n",
       "      <td>NaN</td>\n",
       "      <td>NaN</td>\n",
       "      <td>NaN</td>\n",
       "      <td>...</td>\n",
       "      <td>NaN</td>\n",
       "      <td>NaN</td>\n",
       "      <td>NaN</td>\n",
       "      <td>NaN</td>\n",
       "      <td>NaN</td>\n",
       "      <td>NaN</td>\n",
       "      <td>NaN</td>\n",
       "      <td>NaN</td>\n",
       "      <td>NaN</td>\n",
       "      <td>NaN</td>\n",
       "    </tr>\n",
       "  </tbody>\n",
       "</table>\n",
       "<p>5 rows × 262 columns</p>\n",
       "</div>"
      ],
      "text/plain": [
       "                         access amenity parking                  geometry  \\\n",
       "element_type osmid                                                          \n",
       "node         1116372862     NaN     NaN     NaN  POINT (8.75910 47.52519)   \n",
       "             3094709495     NaN     NaN     NaN  POINT (8.73029 47.49697)   \n",
       "             10054090646    NaN     NaN     NaN  POINT (8.75554 47.50395)   \n",
       "             10054090649    NaN     NaN     NaN  POINT (8.75383 47.50574)   \n",
       "             10054090650    NaN     NaN     NaN  POINT (8.75342 47.50574)   \n",
       "\n",
       "                         tourism  fee highway check_date man_made height  ...  \\\n",
       "element_type osmid                                                        ...   \n",
       "node         1116372862      NaN  NaN     NaN        NaN      NaN    NaN  ...   \n",
       "             3094709495      NaN  NaN     NaN        NaN      NaN    NaN  ...   \n",
       "             10054090646     NaN  NaN     NaN        NaN      NaN    NaN  ...   \n",
       "             10054090649     NaN  NaN     NaN        NaN      NaN    NaN  ...   \n",
       "             10054090650     NaN  NaN     NaN        NaN      NaN    NaN  ...   \n",
       "\n",
       "                         parcel_pickup supervised cemetery telecom lockable  \\\n",
       "element_type osmid                                                            \n",
       "node         1116372862            NaN        NaN      NaN     NaN      NaN   \n",
       "             3094709495            NaN        NaN      NaN     NaN      NaN   \n",
       "             10054090646           NaN        NaN      NaN     NaN      NaN   \n",
       "             10054090649           NaN        NaN      NaN     NaN      NaN   \n",
       "             10054090650           NaN        NaN      NaN     NaN      NaN   \n",
       "\n",
       "                         architect architect:wikidata usage industrial ways  \n",
       "element_type osmid                                                           \n",
       "node         1116372862        NaN                NaN   NaN        NaN  NaN  \n",
       "             3094709495        NaN                NaN   NaN        NaN  NaN  \n",
       "             10054090646       NaN                NaN   NaN        NaN  NaN  \n",
       "             10054090649       NaN                NaN   NaN        NaN  NaN  \n",
       "             10054090650       NaN                NaN   NaN        NaN  NaN  \n",
       "\n",
       "[5 rows x 262 columns]"
      ]
     },
     "execution_count": 7,
     "metadata": {},
     "output_type": "execute_result"
    }
   ],
   "source": [
    "winti_buildings_gdf = osmnx.features_from_place(\"Winterthur, Switzerland\", {\"building\": True})\n",
    "winti_buildings_gdf.head()"
   ]
  },
  {
   "cell_type": "markdown",
   "metadata": {},
   "source": [
    "Es werden im Folgenden nur die Polygon-Objekte (Gebäude mit Grundrissen) aus dem OSM-Gebäude-Datensatz benötigt, daher auf Geometrietyp \"Polygon\" filtern:"
   ]
  },
  {
   "cell_type": "code",
   "execution_count": 8,
   "metadata": {},
   "outputs": [
    {
     "data": {
      "text/html": [
       "<div>\n",
       "<style scoped>\n",
       "    .dataframe tbody tr th:only-of-type {\n",
       "        vertical-align: middle;\n",
       "    }\n",
       "\n",
       "    .dataframe tbody tr th {\n",
       "        vertical-align: top;\n",
       "    }\n",
       "\n",
       "    .dataframe thead th {\n",
       "        text-align: right;\n",
       "    }\n",
       "</style>\n",
       "<table border=\"1\" class=\"dataframe\">\n",
       "  <thead>\n",
       "    <tr style=\"text-align: right;\">\n",
       "      <th></th>\n",
       "      <th></th>\n",
       "      <th>access</th>\n",
       "      <th>amenity</th>\n",
       "      <th>parking</th>\n",
       "      <th>geometry</th>\n",
       "      <th>tourism</th>\n",
       "      <th>fee</th>\n",
       "      <th>highway</th>\n",
       "      <th>check_date</th>\n",
       "      <th>man_made</th>\n",
       "      <th>height</th>\n",
       "      <th>...</th>\n",
       "      <th>parcel_pickup</th>\n",
       "      <th>supervised</th>\n",
       "      <th>cemetery</th>\n",
       "      <th>telecom</th>\n",
       "      <th>lockable</th>\n",
       "      <th>architect</th>\n",
       "      <th>architect:wikidata</th>\n",
       "      <th>usage</th>\n",
       "      <th>industrial</th>\n",
       "      <th>ways</th>\n",
       "    </tr>\n",
       "    <tr>\n",
       "      <th>element_type</th>\n",
       "      <th>osmid</th>\n",
       "      <th></th>\n",
       "      <th></th>\n",
       "      <th></th>\n",
       "      <th></th>\n",
       "      <th></th>\n",
       "      <th></th>\n",
       "      <th></th>\n",
       "      <th></th>\n",
       "      <th></th>\n",
       "      <th></th>\n",
       "      <th></th>\n",
       "      <th></th>\n",
       "      <th></th>\n",
       "      <th></th>\n",
       "      <th></th>\n",
       "      <th></th>\n",
       "      <th></th>\n",
       "      <th></th>\n",
       "      <th></th>\n",
       "      <th></th>\n",
       "      <th></th>\n",
       "    </tr>\n",
       "  </thead>\n",
       "  <tbody>\n",
       "    <tr>\n",
       "      <th rowspan=\"5\" valign=\"top\">way</th>\n",
       "      <th>5058413</th>\n",
       "      <td>NaN</td>\n",
       "      <td>public_building</td>\n",
       "      <td>NaN</td>\n",
       "      <td>POLYGON ((8.74162 47.49566, 8.74154 47.49562, ...</td>\n",
       "      <td>NaN</td>\n",
       "      <td>NaN</td>\n",
       "      <td>NaN</td>\n",
       "      <td>NaN</td>\n",
       "      <td>NaN</td>\n",
       "      <td>NaN</td>\n",
       "      <td>...</td>\n",
       "      <td>NaN</td>\n",
       "      <td>NaN</td>\n",
       "      <td>NaN</td>\n",
       "      <td>NaN</td>\n",
       "      <td>NaN</td>\n",
       "      <td>NaN</td>\n",
       "      <td>NaN</td>\n",
       "      <td>NaN</td>\n",
       "      <td>NaN</td>\n",
       "      <td>NaN</td>\n",
       "    </tr>\n",
       "    <tr>\n",
       "      <th>9264543</th>\n",
       "      <td>NaN</td>\n",
       "      <td>townhall</td>\n",
       "      <td>NaN</td>\n",
       "      <td>POLYGON ((8.73111 47.50115, 8.73112 47.50085, ...</td>\n",
       "      <td>NaN</td>\n",
       "      <td>NaN</td>\n",
       "      <td>NaN</td>\n",
       "      <td>NaN</td>\n",
       "      <td>NaN</td>\n",
       "      <td>NaN</td>\n",
       "      <td>...</td>\n",
       "      <td>NaN</td>\n",
       "      <td>NaN</td>\n",
       "      <td>NaN</td>\n",
       "      <td>NaN</td>\n",
       "      <td>NaN</td>\n",
       "      <td>NaN</td>\n",
       "      <td>NaN</td>\n",
       "      <td>NaN</td>\n",
       "      <td>NaN</td>\n",
       "      <td>NaN</td>\n",
       "    </tr>\n",
       "    <tr>\n",
       "      <th>9347287</th>\n",
       "      <td>NaN</td>\n",
       "      <td>NaN</td>\n",
       "      <td>NaN</td>\n",
       "      <td>POLYGON ((8.73583 47.50538, 8.73564 47.50507, ...</td>\n",
       "      <td>NaN</td>\n",
       "      <td>NaN</td>\n",
       "      <td>NaN</td>\n",
       "      <td>NaN</td>\n",
       "      <td>NaN</td>\n",
       "      <td>NaN</td>\n",
       "      <td>...</td>\n",
       "      <td>NaN</td>\n",
       "      <td>NaN</td>\n",
       "      <td>NaN</td>\n",
       "      <td>NaN</td>\n",
       "      <td>NaN</td>\n",
       "      <td>NaN</td>\n",
       "      <td>NaN</td>\n",
       "      <td>NaN</td>\n",
       "      <td>NaN</td>\n",
       "      <td>NaN</td>\n",
       "    </tr>\n",
       "    <tr>\n",
       "      <th>9347294</th>\n",
       "      <td>NaN</td>\n",
       "      <td>NaN</td>\n",
       "      <td>NaN</td>\n",
       "      <td>POLYGON ((8.73773 47.50479, 8.73759 47.50458, ...</td>\n",
       "      <td>NaN</td>\n",
       "      <td>NaN</td>\n",
       "      <td>NaN</td>\n",
       "      <td>NaN</td>\n",
       "      <td>NaN</td>\n",
       "      <td>NaN</td>\n",
       "      <td>...</td>\n",
       "      <td>NaN</td>\n",
       "      <td>NaN</td>\n",
       "      <td>NaN</td>\n",
       "      <td>NaN</td>\n",
       "      <td>NaN</td>\n",
       "      <td>NaN</td>\n",
       "      <td>NaN</td>\n",
       "      <td>NaN</td>\n",
       "      <td>NaN</td>\n",
       "      <td>NaN</td>\n",
       "    </tr>\n",
       "    <tr>\n",
       "      <th>9347295</th>\n",
       "      <td>NaN</td>\n",
       "      <td>school</td>\n",
       "      <td>NaN</td>\n",
       "      <td>POLYGON ((8.73860 47.50458, 8.73850 47.50442, ...</td>\n",
       "      <td>NaN</td>\n",
       "      <td>NaN</td>\n",
       "      <td>NaN</td>\n",
       "      <td>NaN</td>\n",
       "      <td>NaN</td>\n",
       "      <td>NaN</td>\n",
       "      <td>...</td>\n",
       "      <td>NaN</td>\n",
       "      <td>NaN</td>\n",
       "      <td>NaN</td>\n",
       "      <td>NaN</td>\n",
       "      <td>NaN</td>\n",
       "      <td>NaN</td>\n",
       "      <td>NaN</td>\n",
       "      <td>NaN</td>\n",
       "      <td>NaN</td>\n",
       "      <td>NaN</td>\n",
       "    </tr>\n",
       "  </tbody>\n",
       "</table>\n",
       "<p>5 rows × 262 columns</p>\n",
       "</div>"
      ],
      "text/plain": [
       "                     access          amenity parking  \\\n",
       "element_type osmid                                     \n",
       "way          5058413    NaN  public_building     NaN   \n",
       "             9264543    NaN         townhall     NaN   \n",
       "             9347287    NaN              NaN     NaN   \n",
       "             9347294    NaN              NaN     NaN   \n",
       "             9347295    NaN           school     NaN   \n",
       "\n",
       "                                                               geometry  \\\n",
       "element_type osmid                                                        \n",
       "way          5058413  POLYGON ((8.74162 47.49566, 8.74154 47.49562, ...   \n",
       "             9264543  POLYGON ((8.73111 47.50115, 8.73112 47.50085, ...   \n",
       "             9347287  POLYGON ((8.73583 47.50538, 8.73564 47.50507, ...   \n",
       "             9347294  POLYGON ((8.73773 47.50479, 8.73759 47.50458, ...   \n",
       "             9347295  POLYGON ((8.73860 47.50458, 8.73850 47.50442, ...   \n",
       "\n",
       "                     tourism  fee highway check_date man_made height  ...  \\\n",
       "element_type osmid                                                    ...   \n",
       "way          5058413     NaN  NaN     NaN        NaN      NaN    NaN  ...   \n",
       "             9264543     NaN  NaN     NaN        NaN      NaN    NaN  ...   \n",
       "             9347287     NaN  NaN     NaN        NaN      NaN    NaN  ...   \n",
       "             9347294     NaN  NaN     NaN        NaN      NaN    NaN  ...   \n",
       "             9347295     NaN  NaN     NaN        NaN      NaN    NaN  ...   \n",
       "\n",
       "                     parcel_pickup supervised cemetery telecom lockable  \\\n",
       "element_type osmid                                                        \n",
       "way          5058413           NaN        NaN      NaN     NaN      NaN   \n",
       "             9264543           NaN        NaN      NaN     NaN      NaN   \n",
       "             9347287           NaN        NaN      NaN     NaN      NaN   \n",
       "             9347294           NaN        NaN      NaN     NaN      NaN   \n",
       "             9347295           NaN        NaN      NaN     NaN      NaN   \n",
       "\n",
       "                     architect architect:wikidata usage industrial ways  \n",
       "element_type osmid                                                       \n",
       "way          5058413       NaN                NaN   NaN        NaN  NaN  \n",
       "             9264543       NaN                NaN   NaN        NaN  NaN  \n",
       "             9347287       NaN                NaN   NaN        NaN  NaN  \n",
       "             9347294       NaN                NaN   NaN        NaN  NaN  \n",
       "             9347295       NaN                NaN   NaN        NaN  NaN  \n",
       "\n",
       "[5 rows x 262 columns]"
      ]
     },
     "execution_count": 8,
     "metadata": {},
     "output_type": "execute_result"
    }
   ],
   "source": [
    "winti_buildings_gdf = winti_buildings_gdf[winti_buildings_gdf.geometry.type == 'Polygon']\n",
    "winti_buildings_gdf.head()"
   ]
  },
  {
   "cell_type": "markdown",
   "metadata": {},
   "source": [
    "Kartenvorschau der Gebäude-Polygon-Objekte aus der OSM-Datenquelle anzeigen:"
   ]
  },
  {
   "cell_type": "code",
   "execution_count": 9,
   "metadata": {},
   "outputs": [
    {
     "data": {
      "text/plain": [
       "<Axes: >"
      ]
     },
     "execution_count": 9,
     "metadata": {},
     "output_type": "execute_result"
    },
    {
     "data": {
      "image/png": "[encoded data removed]",
      "text/plain": [
       "<Figure size 640x480 with 1 Axes>"
      ]
     },
     "metadata": {},
     "output_type": "display_data"
    }
   ],
   "source": [
    "winti_buildings_gdf.plot()"
   ]
  },
  {
   "cell_type": "markdown",
   "metadata": {},
   "source": [
    "Geodaten verschneiden, Index zurücksetzen (damit Zählung des Index wieder \"sauber\" bei 0 beginnt) und alle Spalten entfernen, bis auf die \"geometry\"-Spalte:"
   ]
  },
  {
   "cell_type": "code",
   "execution_count": 10,
   "metadata": {},
   "outputs": [
    {
     "name": "stderr",
     "output_type": "stream",
     "text": [
      "c:\\Users\\bued1.RP3V00E010\\source\\vscode\\geospatial_data_analysis_py_public\\Amt für Städtebau\\Gebäude_in_Pünten_als_SHP\\venv\\Lib\\site-packages\\IPython\\core\\interactiveshell.py:3517: FutureWarning: The `op` parameter is deprecated and will be removed in a future release. Please use the `predicate` parameter instead.\n",
      "  if await self.run_code(code, result, async_=asy):\n"
     ]
    },
    {
     "data": {
      "text/html": [
       "<div>\n",
       "<style scoped>\n",
       "    .dataframe tbody tr th:only-of-type {\n",
       "        vertical-align: middle;\n",
       "    }\n",
       "\n",
       "    .dataframe tbody tr th {\n",
       "        vertical-align: top;\n",
       "    }\n",
       "\n",
       "    .dataframe thead th {\n",
       "        text-align: right;\n",
       "    }\n",
       "</style>\n",
       "<table border=\"1\" class=\"dataframe\">\n",
       "  <thead>\n",
       "    <tr style=\"text-align: right;\">\n",
       "      <th></th>\n",
       "      <th>geometry</th>\n",
       "    </tr>\n",
       "  </thead>\n",
       "  <tbody>\n",
       "    <tr>\n",
       "      <th>0</th>\n",
       "      <td>POLYGON ((8.72073 47.51657, 8.72089 47.51631, ...</td>\n",
       "    </tr>\n",
       "    <tr>\n",
       "      <th>1</th>\n",
       "      <td>POLYGON ((8.71952 47.52061, 8.71974 47.52063, ...</td>\n",
       "    </tr>\n",
       "    <tr>\n",
       "      <th>2</th>\n",
       "      <td>POLYGON ((8.70680 47.50925, 8.70698 47.50920, ...</td>\n",
       "    </tr>\n",
       "    <tr>\n",
       "      <th>3</th>\n",
       "      <td>POLYGON ((8.71099 47.48627, 8.71101 47.48627, ...</td>\n",
       "    </tr>\n",
       "    <tr>\n",
       "      <th>4</th>\n",
       "      <td>POLYGON ((8.71112 47.48650, 8.71116 47.48649, ...</td>\n",
       "    </tr>\n",
       "  </tbody>\n",
       "</table>\n",
       "</div>"
      ],
      "text/plain": [
       "                                            geometry\n",
       "0  POLYGON ((8.72073 47.51657, 8.72089 47.51631, ...\n",
       "1  POLYGON ((8.71952 47.52061, 8.71974 47.52063, ...\n",
       "2  POLYGON ((8.70680 47.50925, 8.70698 47.50920, ...\n",
       "3  POLYGON ((8.71099 47.48627, 8.71101 47.48627, ...\n",
       "4  POLYGON ((8.71112 47.48650, 8.71116 47.48649, ..."
      ]
     },
     "execution_count": 10,
     "metadata": {},
     "output_type": "execute_result"
    }
   ],
   "source": [
    "result = geopandas.sjoin(winti_buildings_gdf, anfrage_polygone_gdf, how=\"inner\", op=\"intersects\")\n",
    "result = result.reset_index()\n",
    "result = result[['geometry']]\n",
    "result.head()"
   ]
  },
  {
   "cell_type": "markdown",
   "metadata": {},
   "source": [
    "Resultat des Verschnitts visualisieren:"
   ]
  },
  {
   "cell_type": "code",
   "execution_count": 11,
   "metadata": {},
   "outputs": [
    {
     "data": {
      "text/plain": [
       "<Axes: >"
      ]
     },
     "execution_count": 11,
     "metadata": {},
     "output_type": "execute_result"
    },
    {
     "data": {
      "image/png": "[encoded data removed]",
      "text/plain": [
       "<Figure size 640x480 with 1 Axes>"
      ]
     },
     "metadata": {},
     "output_type": "display_data"
    }
   ],
   "source": [
    "result.plot()"
   ]
  },
  {
   "cell_type": "markdown",
   "metadata": {},
   "source": [
    "Für den Export des Resultats soll ein Unterordner \"temp\" verwendet werden. Falls dieser noch nicht besteht, soll er angelegt werden:"
   ]
  },
  {
   "cell_type": "code",
   "execution_count": 12,
   "metadata": {},
   "outputs": [],
   "source": [
    "temp_folder = \"temp\"\n",
    "if not os.path.exists(temp_folder):\n",
    "    os.makedirs(temp_folder)"
   ]
  },
  {
   "cell_type": "markdown",
   "metadata": {},
   "source": [
    "In ein Shapefile exportieren:"
   ]
  },
  {
   "cell_type": "code",
   "execution_count": 13,
   "metadata": {},
   "outputs": [],
   "source": [
    "result.to_file(\"temp/puenten_buildings.shp\")"
   ]
  }
 ],
 "metadata": {
  "kernelspec": {
   "display_name": "venv",
   "language": "python",
   "name": "python3"
  },
  "language_info": {
   "codemirror_mode": {
    "name": "ipython",
    "version": 3
   },
   "file_extension": ".py",
   "mimetype": "text/x-python",
   "name": "python",
   "nbconvert_exporter": "python",
   "pygments_lexer": "ipython3",
   "version": "3.12.6"
  }
 },
 "nbformat": 4,
 "nbformat_minor": 2
}
